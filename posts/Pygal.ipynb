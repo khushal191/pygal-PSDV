{
  "metadata": {
    "kernelspec": {
      "name": "python",
      "display_name": "Python (Pyodide)",
      "language": "python"
    },
    "language_info": {
      "codemirror_mode": {
        "name": "python",
        "version": 3
      },
      "file_extension": ".py",
      "mimetype": "text/x-python",
      "name": "python",
      "nbconvert_exporter": "python",
      "pygments_lexer": "ipython3",
      "version": "3.8"
    }
  },
  "nbformat_minor": 5,
  "nbformat": 4,
  "cells": [
    {
      "id": "ab9c8635-2090-44a0-946c-d79eeebd98c4",
      "cell_type": "raw",
      "source": "Title",
      "metadata": {}
    },
    {
      "id": "3d8712e1-45da-4d02-93ce-47368dc9c81c",
      "cell_type": "markdown",
      "source": "Visualizing Data with Pygal: A Beginner-Friendly Guide to Interactive Graphs in Python",
      "metadata": {}
    },
    {
      "id": "66b27f5b-a98c-40fc-835f-15a063c66217",
      "cell_type": "markdown",
      "source": "Pygal is an open source user friendly Python Library that enables highly customizable SVG(Scalable Vector Graphics) charts. With it, you can generate charts that are perfect for web applications, reports and presentations. It integrates well with frameworks like FLash and Django and its output visualization is quick and elegant.",
      "metadata": {}
    },
    {
      "id": "f3974890-e0f5-464f-b24a-5f844422a507",
      "cell_type": "raw",
      "source": "Installation and Setup",
      "metadata": {}
    },
    {
      "id": "effe1e68-5b49-4fb1-8dcf-ab9a23bb3dcc",
      "cell_type": "markdown",
      "source": "Use package manager pip",
      "metadata": {}
    },
    {
      "id": "ede2a8d8-01fc-474d-8233-808e7b505bd2",
      "cell_type": "markdown",
      "source": "pip install pygal\n\nimport into the script\n\nimport pygal\n\nif in jupyter notebooks:\npip install ipython\npip install cairosvg\n\nThen, configure your notebook:\nfrom IPython.display import SVG, display\ndef show_svg(svg):\n    display(SVG(svg.render()))\n",
      "metadata": {}
    },
    {
      "id": "6b619323-e659-44cd-ba04-4ea02f0357ee",
      "cell_type": "raw",
      "source": "Key Features & Explanation:",
      "metadata": {}
    },
    {
      "id": "ab8633f5-3416-48d4-ba7b-0993f4b39265",
      "cell_type": "markdown",
      "source": "Wide Range of Chart Types: Supports \nbar: Pygal's Bar chart allows you to plot data for different categories and add multiple series.\n\nline: Line charts are used to display information as a series of data points connected by straight lines.\n\npie: They're useful for displaying how different parts make up a total.\n\nradar: Radar charts display multivariate data on axes starting from the same point. They are good for comparing multiple variables.\n\nbox plots: Box plots are used to display the distribution of data based on five summary statistics: minimum, first quartile, median, third quartile, and maximum.\nand more.\n\nInteractive SVG Output: Charts are rendered as SVGs, making them scalable and interactive.\n\nCustomizable Styles: Modify colors, labels, and tooltips to suit your needs.\n\nBrowser-Friendly: SVG charts can be easily embedded in web pages.\n\nExport Options: Export charts as PNG, PDF, or other formats using additional libraries.",
      "metadata": {}
    },
    {
      "id": "fb9f0ddf-4f43-491b-9086-3b96d0f30bea",
      "cell_type": "raw",
      "source": "Creating Dynamic Charts with Pygal",
      "metadata": {}
    },
    {
      "id": "de9cbdcb-ca53-4e49-bc5b-c850b2f3a713",
      "cell_type": "markdown",
      "source": "One of Pygal’s key strengths is its ability to create dynamic charts by integrating with Python’s data structures. This enables charts to update automatically in response to real-time or changing datasets, making Pygal a great option for dashboards, reports, and web applications that need continuously updated data.\nexample:\nimport pygal\n\ndata = {'Cats': [1, 2, 3], 'Dogs': [4, 5, 6]}\nbar_chart = pygal.Bar()\nfor key, values in data.items():\n    bar_chart.add(key, values)\nbar_chart.render_to_file('bar_chart.svg')",
      "metadata": {}
    },
    {
      "id": "8b222153-965e-4b56-9ecb-6f58d6e43c09",
      "cell_type": "raw",
      "source": "Exporting and Embedding Charts in Pygal",
      "metadata": {}
    },
    {
      "id": "2d767bf7-4108-4ce6-9a51-2e5632eebb0a",
      "cell_type": "markdown",
      "source": "One of Pygal’s strengths is that it can export charts as SVG files, which stay clear and sharp at any size.\nExample:\nimport pygal\n\nbar_chart = pygal.Bar()\nbar_chart.add('Cats', [1, 2, 3])\nsvg_data = bar_chart.render()\n\nwith open('chart.html', 'w') as file:\n    file.write(f'<html><body>{svg_data}</body></html>')",
      "metadata": {}
    },
    {
      "id": "14146717-a093-495e-b3d4-b80c6454752b",
      "cell_type": "raw",
      "source": "Use cases",
      "metadata": {}
    },
    {
      "id": "8fc353b1-9650-44b7-8f18-f8668a174567",
      "cell_type": "markdown",
      "source": "Web Dashboards: Embedding interactive charts for user analytics.\n\nData Reports: Creating professional-looking charts for business insights.\n\nEducational Content: Visualizing mathematical functions and data sets for teaching.\n\nScientific Research: Plotting experimental results interactively",
      "metadata": {}
    },
    {
      "id": "aa43c807-e2a5-4687-9b5b-09e55e9108bb",
      "cell_type": "markdown",
      "source": "Conclusion:\n\nPygal is an excellent choice for Python developers seeking quick, interactive, and visually appealing data visualizations. Its SVG output ensures charts look sharp at any size, making them perfect for both web and print. The simplicity of its API combined with a variety of chart types allows you to present data in the most effective and engaging way.",
      "metadata": {}
    },
    {
      "id": "9f8ecdd4-71cc-4f0c-a26c-f859b8efcdf0",
      "cell_type": "code",
      "source": "",
      "metadata": {
        "trusted": true
      },
      "outputs": [],
      "execution_count": null
    }
  ]
}