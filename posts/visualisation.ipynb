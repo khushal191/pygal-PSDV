{
  "cells": [
    {
      "cell_type": "markdown",
      "id": "ab9c8635-2090-44a0-946c-d79eeebd98c4",
      "metadata": {
        "vscode": {
          "languageId": "raw"
        }
      },
      "source": [
        "# Pygal: Elegant and Interactive Data Visualization in Python"
      ]
    },
    {
      "cell_type": "markdown",
      "id": "3d8712e1-45da-4d02-93ce-47368dc9c81c",
      "metadata": {
        "vscode": {
          "languageId": "raw"
        }
      },
      "source": [
        "### Visualizing Data with Pygal: A Beginner-Friendly Guide to Interactive Graphs in Python"
      ]
    },
    {
      "cell_type": "markdown",
      "id": "56ea69f0",
      "metadata": {},
      "source": [
        "Pygal is an open source user friendly Python Library that enables highly customizable SVG(Scalable Vector Graphics) charts. With it, you can generate charts that are perfect for web applications, reports and presentations. It integrates well with frameworks like FLash and Django and its output visualization is quick and elegant."
      ]
    },
    {
      "cell_type": "markdown",
      "id": "f3974890-e0f5-464f-b24a-5f844422a507",
      "metadata": {
        "vscode": {
          "languageId": "raw"
        }
      },
      "source": [
        "### Installation and Setup"
      ]
    },
    {
      "cell_type": "raw",
      "id": "effe1e68-5b49-4fb1-8dcf-ab9a23bb3dcc",
      "metadata": {},
      "source": [
        "Use package manager pip"
      ]
    },
    {
      "cell_type": "code",
      "execution_count": null,
      "id": "9e11f904",
      "metadata": {},
      "outputs": [],
      "source": [
        "! pip install pygal"
      ]
    },
    {
      "cell_type": "code",
      "execution_count": null,
      "id": "b4db63d9",
      "metadata": {},
      "outputs": [],
      "source": [
        "import into the script\n",
        "import pygal"
      ]
    },
    {
      "cell_type": "markdown",
      "id": "6ce491de",
      "metadata": {},
      "source": [
        "#### If you are in jupyter notebook:"
      ]
    },
    {
      "cell_type": "code",
      "execution_count": null,
      "id": "67766ddc",
      "metadata": {},
      "outputs": [],
      "source": [
        "! pip install ipython"
      ]
    },
    {
      "cell_type": "code",
      "execution_count": null,
      "id": "e31f0fed",
      "metadata": {},
      "outputs": [],
      "source": [
        "! pip install cairosvg"
      ]
    },
    {
      "cell_type": "markdown",
      "id": "580e56e9",
      "metadata": {
        "vscode": {
          "languageId": "raw"
        }
      },
      "source": [
        "#### Then, configure your notebook:"
      ]
    },
    {
      "cell_type": "code",
      "execution_count": null,
      "id": "ede2a8d8-01fc-474d-8233-808e7b505bd2",
      "metadata": {},
      "outputs": [],
      "source": [
        "from IPython.display import SVG, display\n",
        "def show_svg(svg):\n",
        "    display(SVG(svg.render()))"
      ]
    },
    {
      "cell_type": "markdown",
      "id": "6b619323-e659-44cd-ba04-4ea02f0357ee",
      "metadata": {
        "vscode": {
          "languageId": "raw"
        }
      },
      "source": [
        "### Key Features & Explanation:"
      ]
    },
    {
      "cell_type": "markdown",
      "id": "ab8633f5-3416-48d4-ba7b-0993f4b39265",
      "metadata": {
        "vscode": {
          "languageId": "raw"
        }
      },
      "source": [
        "Wide Range of Chart Types: Supports \n",
        "bar: Pygal's Bar chart allows you to plot data for different categories and add multiple series.\n",
        "\n",
        "#####  line: \n",
        "Line charts are used to display information as a series of data points connected by straight lines.\n",
        "\n",
        "##### pie: \n",
        "They're useful for displaying how different parts make up a total.\n",
        "\n",
        "##### radar: \n",
        "Radar charts display multivariate data on axes starting from the same point. They are good for comparing multiple variables.\n",
        "\n",
        "##### box plots: \n",
        "Box plots are used to display the distribution of data based on five summary statistics: minimum, first quartile, median, third quartile, and maximum.\n",
        "and more.\n",
        "\n",
        "##### Interactive SVG Output: \n",
        "Charts are rendered as SVGs, making them scalable and interactive.\n",
        "\n",
        "##### Customizable Styles: \n",
        "Modify colors, labels, and tooltips to suit your needs.\n",
        "\n",
        "##### Browser-Friendly: \n",
        "SVG charts can be easily embedded in web pages.\n",
        "\n",
        "##### Export Options: \n",
        "Export charts as PNG, PDF, or other formats using additional libraries."
      ]
    },
    {
      "cell_type": "markdown",
      "id": "fb9f0ddf-4f43-491b-9086-3b96d0f30bea",
      "metadata": {
        "vscode": {
          "languageId": "raw"
        }
      },
      "source": [
        "### Creating Dynamic Charts with Pygal"
      ]
    },
    {
      "cell_type": "raw",
      "id": "de9cbdcb-ca53-4e49-bc5b-c850b2f3a713",
      "metadata": {
        "vscode": {
          "languageId": "raw"
        }
      },
      "source": [
        "One of Pygal’s key strengths is its ability to create dynamic charts by integrating with Python’s data structures. This enables charts to update automatically in response to real-time or changing datasets, making Pygal a great option for dashboards, reports, and web applications that need continuously updated data.\n",
        "example:"
      ]
    },
    {
      "cell_type": "code",
      "execution_count": null,
      "id": "3730d377",
      "metadata": {},
      "outputs": [],
      "source": [
        "import pygal\n",
        "\n",
        "data = {'Cats': [1, 2, 3], 'Dogs': [4, 5, 6]}\n",
        "bar_chart = pygal.Bar()\n",
        "for key, values in data.items():\n",
        "    bar_chart.add(key, values)\n",
        "bar_chart.render_to_file('bar_chart.svg')"
      ]
    },
    {
      "cell_type": "markdown",
      "id": "8b222153-965e-4b56-9ecb-6f58d6e43c09",
      "metadata": {
        "vscode": {
          "languageId": "raw"
        }
      },
      "source": [
        "### Exporting and Embedding Charts in Pygal"
      ]
    },
    {
      "cell_type": "raw",
      "id": "2d767bf7-4108-4ce6-9a51-2e5632eebb0a",
      "metadata": {},
      "source": [
        "One of Pygal’s strengths is that it can export charts as SVG files, which stay clear and sharp at any size.\n",
        "Example:"
      ]
    },
    {
      "cell_type": "code",
      "execution_count": null,
      "id": "b633d07f",
      "metadata": {},
      "outputs": [],
      "source": [
        "import pygal\n",
        "\n",
        "bar_chart = pygal.Bar()\n",
        "bar_chart.add('Cats', [1, 2, 3])\n",
        "svg_data = bar_chart.render()\n",
        "\n",
        "with open('chart.html', 'w') as file:\n",
        "    file.write(f'<html><body>{svg_data}</body></html>')"
      ]
    },
    {
      "cell_type": "markdown",
      "id": "14146717-a093-495e-b3d4-b80c6454752b",
      "metadata": {
        "vscode": {
          "languageId": "raw"
        }
      },
      "source": [
        "### Use cases:"
      ]
    },
    {
      "cell_type": "raw",
      "id": "8fc353b1-9650-44b7-8f18-f8668a174567",
      "metadata": {},
      "source": [
        "Web Dashboards: Embedding interactive charts for user analytics.\n",
        "\n",
        "Data Reports: Creating professional-looking charts for business insights.\n",
        "\n",
        "Educational Content: Visualizing mathematical functions and data sets for teaching.\n",
        "\n",
        "Scientific Research: Plotting experimental results interactively"
      ]
    },
    {
      "cell_type": "markdown",
      "id": "aa43c807-e2a5-4687-9b5b-09e55e9108bb",
      "metadata": {
        "vscode": {
          "languageId": "raw"
        }
      },
      "source": [
        "### Conclusion:"
      ]
    },
    {
      "cell_type": "raw",
      "id": "f699281d",
      "metadata": {},
      "source": [
        "Pygal is an excellent choice for Python developers seeking quick, interactive, and visually appealing data visualizations. Its SVG output ensures charts look sharp at any size, making them perfect for both web and print. The simplicity of its API combined with a variety of chart types allows you to present data in the most effective and engaging way."
      ]
    },
    {
      "cell_type": "markdown",
      "id": "f7eb1437",
      "metadata": {},
      "source": [
        "##### Using matplotlib:"
      ]
    },
    {
      "cell_type": "code",
      "execution_count": null,
      "id": "dda10fc1",
      "metadata": {},
      "outputs": [],
      "source": [
        "import matplotlib.pyplot as plt\n",
        "\n",
        "months = ['Jan', 'Feb', 'Mar', 'Apr', 'May', 'Jun', 'Jul', 'Aug', 'Sep', 'Oct', 'Nov', 'Dec']\n",
        "product_a = [150, 200, 220, 240, 300, 500, 450, 470, 490, 520, 580, 600]\n",
        "product_b = [100, 120, 140, 160, 200, 300, 350, 370, 400, 430, 450, 480]\n",
        "\n",
        "plt.figure(figsize=(10, 6))\n",
        "plt.plot(months, product_a, label='Product A', marker='o', linestyle='-', color='blue')\n",
        "plt.plot(months, product_b, label='Product B', marker='s', linestyle='--', color='orange')\n",
        "\n",
        "plt.title('Monthly Sales Data for Product A and Product B', fontsize=16)\n",
        "plt.xlabel('Month', fontsize=12)\n",
        "plt.ylabel('Sales', fontsize=12)\n",
        "plt.legend()\n",
        "plt.grid(True, linestyle='--', alpha=0.5)\n",
        "\n",
        "plt.tight_layout()\n",
        "plt.show()"
      ]
    },
    {
      "cell_type": "markdown",
      "id": "cc343462",
      "metadata": {},
      "source": [
        "##### Using pygal:"
      ]
    },
    {
      "cell_type": "code",
      "execution_count": null,
      "id": "2e2e8a6c",
      "metadata": {},
      "outputs": [],
      "source": [
        "import pygal\n",
        "\n",
        "line_chart = pygal.Line()\n",
        "line_chart.title = 'Monthly Sales Data (2024)'\n",
        "line_chart.x_labels = map(str, range(1, 13))\n",
        "line_chart.add('Product A', [150, 200, 220, 240, 300, 500, 450, 470, 490, 520, 580, 600])\n",
        "line_chart.add('Product B', [100, 120, 140, 160, 200, 300, 350, 370, 400, 430, 450, 480])\n",
        "line_chart.render_to_file('line_chart.svg')"
      ]
    },
    {
      "cell_type": "markdown",
      "id": "853cec0a",
      "metadata": {},
      "source": [
        "##### Using Matplotlib:"
      ]
    },
    {
      "cell_type": "code",
      "execution_count": null,
      "id": "3ce928dd",
      "metadata": {},
      "outputs": [],
      "source": [
        "import matplotlib.pyplot as plt\n",
        "\n",
        "weeks = ['Week 1', 'Week 2', 'Week 3', 'Week 4']\n",
        "visits = [3000, 4000, 3500, 5000]\n",
        "\n",
        "plt.figure(figsize=(8, 5))\n",
        "plt.bar(weeks, visits, color='skyblue')\n",
        "\n",
        "plt.title('Weekly Visits', fontsize=16)\n",
        "plt.xlabel('Week', fontsize=12)\n",
        "plt.ylabel('Number of Visits', fontsize=12)\n",
        "plt.grid(axis='y', linestyle='--', alpha=0.5)\n",
        "\n",
        "plt.tight_layout()\n",
        "plt.show()"
      ]
    },
    {
      "cell_type": "markdown",
      "id": "f86a0140",
      "metadata": {},
      "source": [
        "##### Using Pygal:"
      ]
    },
    {
      "cell_type": "code",
      "execution_count": null,
      "id": "49bf4b24",
      "metadata": {},
      "outputs": [],
      "source": [
        "bar_chart = pygal.Bar()\n",
        "bar_chart.title = 'Website Visits per Week'\n",
        "bar_chart.x_labels = ['Week 1', 'Week 2', 'Week 3', 'Week 4']\n",
        "bar_chart.add('Visits', [3000, 4000, 3500, 5000])\n",
        "bar_chart.render_to_file('bar_chart.svg')"
      ]
    },
    {
      "cell_type": "markdown",
      "id": "2e8ae084",
      "metadata": {},
      "source": [
        "##### Using Matplotlib:"
      ]
    },
    {
      "cell_type": "code",
      "execution_count": null,
      "id": "9b19b332",
      "metadata": {},
      "outputs": [],
      "source": [
        "import matplotlib.pyplot as plt\n",
        "\n",
        "labels = ['Android', 'iOS', 'Others']\n",
        "sizes = [68.3, 30.3, 1.4]\n",
        "colors = ['#66b3ff', '#ff9999', '#99ff99']\n",
        "explode = (0.1, 0, 0)\n",
        "\n",
        "plt.figure(figsize=(8, 8))\n",
        "plt.pie(sizes, labels=labels, colors=colors, autopct='%1.1f%%', startangle=140, explode=explode, shadow=True)\n",
        "\n",
        "plt.title('Market Share of Mobile OS', fontsize=16)\n",
        "\n",
        "plt.tight_layout()\n",
        "plt.show()"
      ]
    },
    {
      "cell_type": "markdown",
      "id": "2286e8c7",
      "metadata": {},
      "source": [
        "##### Using Pygal:"
      ]
    },
    {
      "cell_type": "code",
      "execution_count": null,
      "id": "e51ced7e",
      "metadata": {},
      "outputs": [],
      "source": [
        "import pygal\n",
        "\n",
        "pie_chart = pygal.Pie()\n",
        "pie_chart.title = 'Market Share of Mobile OS'\n",
        "\n",
        "pie_chart.add('Android', 68.3)\n",
        "pie_chart.add('iOS', 30.3)\n",
        "pie_chart.add('Others', 1.4)\n",
        "\n",
        "pie_chart.render_to_file('pie_chart.svg')"
      ]
    },
    {
      "cell_type": "markdown",
      "id": "236ce7cb",
      "metadata": {},
      "source": [
        "##### Using Matplotlib:"
      ]
    },
    {
      "cell_type": "code",
      "execution_count": null,
      "id": "06ea9df3",
      "metadata": {},
      "outputs": [],
      "source": [
        "import matplotlib.pyplot as plt\n",
        "import numpy as np\n",
        "\n",
        "labels = ['Python', 'Java', 'C++', 'JavaScript', 'SQL']\n",
        "developer_a = [80, 65, 70, 90, 85]\n",
        "developer_b = [60, 75, 85, 80, 70]\n",
        "\n",
        "angles = np.linspace(0, 2 * np.pi, len(labels), endpoint=False).tolist()\n",
        "developer_a += developer_a[:1]\n",
        "developer_b += developer_b[:1]\n",
        "angles += angles[:1]\n",
        "\n",
        "fig, ax = plt.subplots(figsize=(8, 8), subplot_kw=dict(polar=True))\n",
        "\n",
        "ax.plot(angles, developer_a, label='Developer A', color='blue', linewidth=2)\n",
        "ax.fill(angles, developer_a, color='blue', alpha=0.25)\n",
        "\n",
        "ax.plot(angles, developer_b, label='Developer B', color='orange', linewidth=2)\n",
        "ax.fill(angles, developer_b, color='orange', alpha=0.25)\n",
        "\n",
        "ax.set_yticks([])\n",
        "ax.set_xticks(angles[:-1])\n",
        "ax.set_xticklabels(labels)\n",
        "\n",
        "plt.title('Skill Set Comparison', fontsize=16)\n",
        "ax.legend(loc='upper right', bbox_to_anchor=(1.1, 1.1))\n",
        "\n",
        "plt.tight_layout()\n",
        "plt.show()"
      ]
    },
    {
      "cell_type": "markdown",
      "id": "934e1f02",
      "metadata": {},
      "source": [
        "##### Using Pygal:"
      ]
    },
    {
      "cell_type": "code",
      "execution_count": null,
      "id": "97103516",
      "metadata": {},
      "outputs": [],
      "source": [
        "import pygal\n",
        "\n",
        "radar_chart = pygal.Radar()\n",
        "radar_chart.title = 'Skill Set Comparison'\n",
        "\n",
        "radar_chart.x_labels = ['Python', 'Java', 'C++', 'JavaScript', 'SQL']\n",
        "\n",
        "radar_chart.add('Developer A', [80, 65, 70, 90, 85])\n",
        "radar_chart.add('Developer B', [60, 75, 85, 80, 70])\n",
        "radar_chart.render_to_file('radar_chart.svg')"
      ]
    },
    {
      "cell_type": "markdown",
      "id": "4903b4bf",
      "metadata": {},
      "source": [
        "#### Using Matplotlib:"
      ]
    },
    {
      "cell_type": "code",
      "execution_count": null,
      "id": "caf09d74",
      "metadata": {},
      "outputs": [
        {
          "ename": "",
          "evalue": "",
          "output_type": "error",
          "traceback": [
            "\u001b[1;31mRunning cells with 'Python 3.13.1' requires the ipykernel package.\n",
            "\u001b[1;31mRun the following command to install 'ipykernel' into the Python environment. \n",
            "\u001b[1;31mCommand: 'c:/Users/admin/AppData/Local/Programs/Python/Python313/python3.13t.exe -m pip install ipykernel -U --user --force-reinstall'"
          ]
        }
      ],
      "source": [
        "import matplotlib.pyplot as plt\n",
        "\n",
        "scores = {\n",
        "    'Math': [45, 60, 75, 85, 95],\n",
        "    'Science': [50, 65, 70, 80, 90],\n",
        "    'History': [40, 55, 65, 75, 85]\n",
        "}\n",
        "\n",
        "data = [scores['Math'], scores['Science'], scores['History']]\n",
        "labels = list(scores.keys())\n",
        "\n",
        "plt.figure(figsize=(8, 6))\n",
        "plt.boxplot(data, labels=labels, patch_artist=True,\n",
        "            boxprops=dict(facecolor='skyblue', color='blue'),\n",
        "            medianprops=dict(color='red'),\n",
        "            whiskerprops=dict(color='blue'),\n",
        "            capprops=dict(color='blue'))\n",
        "\n",
        "plt.title('Exam Scores Distribution', fontsize=16)\n",
        "plt.ylabel('Scores', fontsize=12)\n",
        "plt.grid(axis='y', linestyle='--', alpha=0.5)\n",
        "\n",
        "plt.tight_layout()\n",
        "plt.show()"
      ]
    },
    {
      "cell_type": "markdown",
      "id": "3d82ea0c",
      "metadata": {},
      "source": [
        "##### Using Pygal:"
      ]
    },
    {
      "cell_type": "code",
      "execution_count": null,
      "id": "97fcf2d2",
      "metadata": {},
      "outputs": [],
      "source": [
        "import pygal\n",
        "\n",
        "box_plot = pygal.Box()\n",
        "box_plot.title = 'Exam Scores Distribution'\n",
        "\n",
        "box_plot.add('Math', [45, 60, 75, 85, 95])\n",
        "box_plot.add('Science', [50, 65, 70, 80, 90])\n",
        "box_plot.add('History', [40, 55, 65, 75, 85])\n",
        "\n",
        "box_plot.render_to_file('box_plot.svg')"
      ]
    },
    {
      "cell_type": "markdown",
      "id": "49370ce4",
      "metadata": {},
      "source": [
        "Pygal is an excellent choice for Python developers seeking quick, interactive, and visually appealing data visualizations. Its SVG output ensures charts look sharp at any size, making them perfect for both web and print. The simplicity of its API combined with a variety of chart types allows you to present data in the most effective and engaging way."
      ]
    }
  ],
  "metadata": {
    "kernelspec": {
      "display_name": "Python 3",
      "language": "python",
      "name": "python3"
    },
    "language_info": {
      "codemirror_mode": {
        "name": "python",
        "version": 3
      },
      "file_extension": ".py",
      "mimetype": "text/x-python",
      "name": "python",
      "nbconvert_exporter": "python",
      "pygments_lexer": "ipython3",
      "version": "3.13.1"
    }
  },
  "nbformat": 4,
  "nbformat_minor": 5
}
