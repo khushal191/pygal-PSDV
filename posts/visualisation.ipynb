{
  "cells": [
    {
      "cell_type": "raw",
      "id": "ab9c8635-2090-44a0-946c-d79eeebd98c4",
      "metadata": {},
      "source": [
        "Title"
      ]
    },
    {
      "cell_type": "raw",
      "id": "3d8712e1-45da-4d02-93ce-47368dc9c81c",
      "metadata": {},
      "source": [
        "Visualizing Data with Pygal: A Beginner-Friendly Guide to Interactive Graphs in Python"
      ]
    },
    {
      "cell_type": "raw",
      "id": "66b27f5b-a98c-40fc-835f-15a063c66217",
      "metadata": {},
      "source": [
        "Pygal is an open source user friendly Python Library that enables highly customizable SVG(Scalable Vector Graphics) charts. With it, you can generate charts that are perfect for web applications, reports and presentations. It integrates well with frameworks like FLash and Django and its output visualization is quick and elegant."
      ]
    },
    {
      "cell_type": "raw",
      "id": "f3974890-e0f5-464f-b24a-5f844422a507",
      "metadata": {},
      "source": [
        "Installation and Setup"
      ]
    },
    {
      "cell_type": "raw",
      "id": "effe1e68-5b49-4fb1-8dcf-ab9a23bb3dcc",
      "metadata": {},
      "source": [
        "Use package manager pip"
      ]
    },
    {
      "cell_type": "code",
      "execution_count": null,
      "id": "9e11f904",
      "metadata": {},
      "outputs": [],
      "source": [
        "! pip install pygal"
      ]
    },
    {
      "cell_type": "code",
      "execution_count": null,
      "id": "b4db63d9",
      "metadata": {},
      "outputs": [],
      "source": [
        "import into the script\n",
        "import pygal"
      ]
    },
    {
      "cell_type": "raw",
      "id": "6ce491de",
      "metadata": {},
      "source": [
        "if in jupyter notebooks:"
      ]
    },
    {
      "cell_type": "code",
      "execution_count": null,
      "id": "67766ddc",
      "metadata": {},
      "outputs": [],
      "source": [
        "! pip install ipython"
      ]
    },
    {
      "cell_type": "code",
      "execution_count": null,
      "id": "e31f0fed",
      "metadata": {},
      "outputs": [],
      "source": [
        "! pip install cairosvg"
      ]
    },
    {
      "cell_type": "raw",
      "id": "580e56e9",
      "metadata": {},
      "source": [
        "Then, configure your notebook:"
      ]
    },
    {
      "cell_type": "code",
      "execution_count": null,
      "id": "ede2a8d8-01fc-474d-8233-808e7b505bd2",
      "metadata": {},
      "outputs": [],
      "source": [
        "from IPython.display import SVG, display\n",
        "def show_svg(svg):\n",
        "    display(SVG(svg.render()))\n"
      ]
    },
    {
      "cell_type": "raw",
      "id": "6b619323-e659-44cd-ba04-4ea02f0357ee",
      "metadata": {},
      "source": [
        "Key Features & Explanation:"
      ]
    },
    {
      "cell_type": "raw",
      "id": "ab8633f5-3416-48d4-ba7b-0993f4b39265",
      "metadata": {},
      "source": [
        "Wide Range of Chart Types: Supports \n",
        "bar: Pygal's Bar chart allows you to plot data for different categories and add multiple series.\n",
        "\n",
        "line: Line charts are used to display information as a series of data points connected by straight lines.\n",
        "\n",
        "pie: They're useful for displaying how different parts make up a total.\n",
        "\n",
        "radar: Radar charts display multivariate data on axes starting from the same point. They are good for comparing multiple variables.\n",
        "\n",
        "box plots: Box plots are used to display the distribution of data based on five summary statistics: minimum, first quartile, median, third quartile, and maximum.\n",
        "and more.\n",
        "\n",
        "Interactive SVG Output: Charts are rendered as SVGs, making them scalable and interactive.\n",
        "\n",
        "Customizable Styles: Modify colors, labels, and tooltips to suit your needs.\n",
        "\n",
        "Browser-Friendly: SVG charts can be easily embedded in web pages.\n",
        "\n",
        "Export Options: Export charts as PNG, PDF, or other formats using additional libraries."
      ]
    },
    {
      "cell_type": "raw",
      "id": "fb9f0ddf-4f43-491b-9086-3b96d0f30bea",
      "metadata": {},
      "source": [
        "Creating Dynamic Charts with Pygal"
      ]
    },
    {
      "cell_type": "raw",
      "id": "de9cbdcb-ca53-4e49-bc5b-c850b2f3a713",
      "metadata": {
        "vscode": {
          "languageId": "raw"
        }
      },
      "source": [
        "One of Pygal’s key strengths is its ability to create dynamic charts by integrating with Python’s data structures. This enables charts to update automatically in response to real-time or changing datasets, making Pygal a great option for dashboards, reports, and web applications that need continuously updated data.\n",
        "example:"
      ]
    },
    {
      "cell_type": "code",
      "execution_count": null,
      "id": "3730d377",
      "metadata": {},
      "outputs": [],
      "source": [
        "import pygal\n",
        "\n",
        "data = {'Cats': [1, 2, 3], 'Dogs': [4, 5, 6]}\n",
        "bar_chart = pygal.Bar()\n",
        "for key, values in data.items():\n",
        "    bar_chart.add(key, values)\n",
        "bar_chart.render_to_file('bar_chart.svg')"
      ]
    },
    {
      "cell_type": "raw",
      "id": "8b222153-965e-4b56-9ecb-6f58d6e43c09",
      "metadata": {},
      "source": [
        "Exporting and Embedding Charts in Pygal"
      ]
    },
    {
      "cell_type": "raw",
      "id": "2d767bf7-4108-4ce6-9a51-2e5632eebb0a",
      "metadata": {},
      "source": [
        "One of Pygal’s strengths is that it can export charts as SVG files, which stay clear and sharp at any size.\n",
        "Example:"
      ]
    },
    {
      "cell_type": "code",
      "execution_count": null,
      "id": "b633d07f",
      "metadata": {},
      "outputs": [],
      "source": [
        "import pygal\n",
        "\n",
        "bar_chart = pygal.Bar()\n",
        "bar_chart.add('Cats', [1, 2, 3])\n",
        "svg_data = bar_chart.render()\n",
        "\n",
        "with open('chart.html', 'w') as file:\n",
        "    file.write(f'<html><body>{svg_data}</body></html>')"
      ]
    },
    {
      "cell_type": "raw",
      "id": "14146717-a093-495e-b3d4-b80c6454752b",
      "metadata": {},
      "source": [
        "Use cases"
      ]
    },
    {
      "cell_type": "raw",
      "id": "8fc353b1-9650-44b7-8f18-f8668a174567",
      "metadata": {},
      "source": [
        "Web Dashboards: Embedding interactive charts for user analytics.\n",
        "\n",
        "Data Reports: Creating professional-looking charts for business insights.\n",
        "\n",
        "Educational Content: Visualizing mathematical functions and data sets for teaching.\n",
        "\n",
        "Scientific Research: Plotting experimental results interactively"
      ]
    },
    {
      "cell_type": "raw",
      "id": "aa43c807-e2a5-4687-9b5b-09e55e9108bb",
      "metadata": {},
      "source": [
        "Conclusion:\n",
        "\n",
        "Pygal is an excellent choice for Python developers seeking quick, interactive, and visually appealing data visualizations. Its SVG output ensures charts look sharp at any size, making them perfect for both web and print. The simplicity of its API combined with a variety of chart types allows you to present data in the most effective and engaging way."
      ]
    }
  ],
  "metadata": {
    "kernelspec": {
      "display_name": "Python (Pyodide)",
      "language": "python",
      "name": "python"
    },
    "language_info": {
      "codemirror_mode": {
        "name": "python",
        "version": 3
      },
      "file_extension": ".py",
      "mimetype": "text/x-python",
      "name": "python",
      "nbconvert_exporter": "python",
      "pygments_lexer": "ipython3",
      "version": "3.8"
    }
  },
  "nbformat": 4,
  "nbformat_minor": 5
}
